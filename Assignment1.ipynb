{
 "cells": [
  {
   "cell_type": "code",
   "execution_count": 154,
   "metadata": {},
   "outputs": [],
   "source": [
    "import sys\n",
    "import numpy as np"
   ]
  },
  {
   "cell_type": "markdown",
   "metadata": {},
   "source": [
    "# Part 1"
   ]
  },
  {
   "cell_type": "code",
   "execution_count": 155,
   "metadata": {},
   "outputs": [],
   "source": [
    "#For testing purpose\n",
    "train_X = np.array([[1, 3, 0],\n",
    "       [3, 2, 0],\n",
    "       [0, 2, 1],\n",
    "       [1, 1, 4],\n",
    "       [3, 2, 2],\n",
    "       [0, 1, 0],\n",
    "       [1, 3, 1],\n",
    "       [0, 4, 1],\n",
    "       [2, 4, 2],\n",
    "       [3, 3, 1]])\n",
    "train_y = np.array([[0],[0],[0],[1],[0],[1],[0],[1],[0],[0]])"
   ]
  },
  {
   "cell_type": "code",
   "execution_count": 156,
   "metadata": {},
   "outputs": [],
   "source": [
    "n = train_X.shape[1]\n",
    "m = train_X.shape[0]\n",
    "alpha = 0.01\n",
    "max_iterations = 10000\n",
    "threshold = 1e-6\n",
    "w = np.random.uniform(0,0.01,n)\n",
    "b = np.random.rand()\n",
    "convergence = False"
   ]
  },
  {
   "cell_type": "code",
   "execution_count": 157,
   "metadata": {},
   "outputs": [],
   "source": [
    "#Sigmoid function\n",
    "def sigmoid(z):\n",
    "    return 1.0 / (1 + np.exp(-z))            # Function to map the predicted values to probabilites\n",
    "\n",
    "def costFunc(y,yhat): # Cost Function to minimize the error(absolute difference between y_actual and y_predicted)\n",
    "        return -1*(y*(np.log(yhat)) + (1 - y)*(np.log(1 - yhat)))\n",
    "    \n",
    "def logisticRegression(X, y,w,b,max_iterations,alpha,threshold):\n",
    "    previous_cost = sys.maxsize\n",
    "    for i in range(max_iterations):\n",
    "        idx = np.random.randint(m, size=1)\n",
    "        xj = X[idx][0]\n",
    "        yj = y[idx][0]\n",
    "        \n",
    "        #Forward Propogation Stage\n",
    "        z = np.dot(xj,w)+b\n",
    "        yhat = sigmoid(z)\n",
    "        current_cost = costFunc(yj,yhat)[0]\n",
    "        if abs(previous_cost-current_cost) < threshold:\n",
    "            convergence = True\n",
    "            break\n",
    "        previous_cost = current_cost\n",
    "        \n",
    "        # Gradient Descent Stage\n",
    "        delta_w = [None] * n\n",
    "        for k in range(n):\n",
    "            delta_w[k] = (yhat-yj)*xj[k]\n",
    "        delta_b = yhat-yj\n",
    "        for l in range(n):\n",
    "            w[l] -= alpha*delta_w[l]\n",
    "        b -= alpha*delta_b\n",
    "    \n",
    "    return w,b"
   ]
  },
  {
   "cell_type": "code",
   "execution_count": 158,
   "metadata": {},
   "outputs": [],
   "source": [
    "w,b = logisticRegression(train_X, train_y,w,b,max_iterations,alpha,threshold)"
   ]
  },
  {
   "cell_type": "code",
   "execution_count": 159,
   "metadata": {},
   "outputs": [],
   "source": [
    "z = np.dot(train_X,w)+b\n",
    "y_pred = sigmoid(z)"
   ]
  },
  {
   "cell_type": "code",
   "execution_count": 160,
   "metadata": {},
   "outputs": [
    {
     "name": "stdout",
     "output_type": "stream",
     "text": [
      "[0. 0. 1. 1. 0. 1. 0. 0. 0. 0.]\n"
     ]
    }
   ],
   "source": [
    "for a in range(m):\n",
    "    if y_pred[a] <0.5:\n",
    "        y_pred[a] = 0\n",
    "    else:\n",
    "        y_pred[a] = 1\n",
    "print(y_pred)      "
   ]
  },
  {
   "cell_type": "code",
   "execution_count": null,
   "metadata": {},
   "outputs": [],
   "source": []
  },
  {
   "cell_type": "code",
   "execution_count": null,
   "metadata": {},
   "outputs": [],
   "source": []
  },
  {
   "cell_type": "code",
   "execution_count": null,
   "metadata": {},
   "outputs": [],
   "source": []
  },
  {
   "cell_type": "code",
   "execution_count": null,
   "metadata": {},
   "outputs": [],
   "source": []
  },
  {
   "cell_type": "code",
   "execution_count": null,
   "metadata": {},
   "outputs": [],
   "source": []
  },
  {
   "cell_type": "code",
   "execution_count": null,
   "metadata": {},
   "outputs": [],
   "source": []
  }
 ],
 "metadata": {
  "kernelspec": {
   "display_name": "Python 3",
   "language": "python",
   "name": "python3"
  },
  "language_info": {
   "codemirror_mode": {
    "name": "ipython",
    "version": 3
   },
   "file_extension": ".py",
   "mimetype": "text/x-python",
   "name": "python",
   "nbconvert_exporter": "python",
   "pygments_lexer": "ipython3",
   "version": "3.6.10"
  }
 },
 "nbformat": 4,
 "nbformat_minor": 4
}
